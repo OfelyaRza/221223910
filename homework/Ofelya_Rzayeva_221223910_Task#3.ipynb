# -*- coding: utf-8 -*-
"""
Created on Tue May  2 22:18:16 2023

@author: Ofelya Rzayeva 221223910
"""
#Task1
import numpy as np
from scipy.stats import norm

# Define parameters
drift = 0.1 # per month
variance = 0.16 # per month
X0 = 2 # initial cash position in millions

# Define time horizons
t1 = 1 # month
t2 = 6 # months
t3 = 12 # months

# Calculate expected value and standard deviation for each time horizon
exp_val_1 = X0 + drift*t1
exp_val_2 = X0 + drift*t2
exp_val_3 = X0 + drift*t3

std_dev_1 = np.sqrt(variance*t1)
std_dev_2 = np.sqrt(variance*t2)
std_dev_3 = np.sqrt(variance*t3)

print("Expected Values:")
print(f"1 month: {exp_val_1:.2f} million")
print(f"6 months: {exp_val_2:.2f} million")
print(f"12 months: {exp_val_3:.2f} million")
print()
print("Standard Deviations:")
print(f"1 month: {std_dev_1:.2f} million")
print(f"6 months: {std_dev_2:.2f} million")
print(f"12 months: {std_dev_3:.2f} million")
print()

# Calculate probability of negative cash position in 6 and 12 months
prob_neg_6 = norm.cdf(-exp_val_2/std_dev_2)
prob_neg_12 = norm.cdf(-exp_val_3/std_dev_3)

print("Probabilities of Negative Cash Position:")
print(f"6 months: {prob_neg_6:.2%}")
print(f"12 months: {prob_neg_12:.2%}")

#Task2

# Option parameters
S0 = 220 # underlying price at time 0
K = 220 # strike price
T = 1 # time to maturity in years
r = 0.1 # risk-free rate
sigma = 0.98 # volatility of underlying

# Black-Scholes-Merton call option price using numerical integration
d1 = (np.log(S0 / K) + (r + 0.5 * sigma ** 2) * T) / (sigma * np.sqrt(T))
d2 = d1 - sigma * np.sqrt(T)
N_d1 = norm.cdf(d1)
N_d2 = norm.cdf(d2)
C_NI = S0 * N_d1 - K * np.exp(-r * T) * N_d2

print("Call option price using numerical integration: ", C_NI)

# Monte Carlo simulation
M = 100000 # number of simulations
dt = 1/252 # time step
S_T = S0 * np.exp((r - 0.5 * sigma ** 2) * T + sigma * np.sqrt(T) * np.random.standard_normal(size=M))
C_MC = np.exp(-r * T) * np.sum(np.maximum(S_T - K, 0)) / M

print("Call option price using Monte Carlo simulation: ", C_MC)

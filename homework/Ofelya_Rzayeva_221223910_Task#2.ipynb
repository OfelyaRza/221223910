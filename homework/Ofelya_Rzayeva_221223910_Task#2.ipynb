# -*- coding: utf-8 -*-
"""
Created on Tue Apr 25 23:37:42 2023

@author: 49176
"""

#Ofelya Rzayeva 221223910

#Task 1

import os

# Change the current working directory to the directory containing the data file
os.chdir('C:/Users/49176/FinancialDataAnalytics/FinancialDataAnalytics/homework')

import numpy as np
import pandas as pd
import matplotlib.pyplot as plt
import seaborn as sns

# Load data from CSV file
data = pd.read_csv('02_python_data.csv')

prices = pd.read_csv('02_python_data.csv', index_col=0)

# Remove any missing values or NaNs
data.dropna(inplace=True)

# Calculate arithmetic returns
returns = prices.pct_change()

# Calculate logarithmic returns
logreturns = pd.DataFrame(index=prices.index, columns=prices.columns)
for col in prices.columns:
    logreturns[col] = np.log(prices[col]).diff()

# Display the first 5 rows of each data frame
print('Arithmetic Returns:\n', returns.head())
print('\nLogarithmic Returns:\n', logreturns.head())


#Task 2

# Plot histogram of DAX returns
plt.hist(returns['.GDAXI'], bins=20)
plt.xlabel('Returns')
plt.ylabel('Frequency')
plt.title('Histogram of DAX Returns')

# Plotting the prices and returns of DAX
fig, ax1 = plt.subplots(figsize=(12,6))

color = 'tab:red'
ax1.set_xlabel('Date')
ax1.set_ylabel('Price', color=color)
ax1.plot(prices.index, prices['.GDAXI'], color=color)
ax1.tick_params(axis='y', labelcolor=color)

ax2 = ax1.twinx()  # instantiate a second axes that shares the same x-axis

color = 'tab:blue'
ax2.set_ylabel('Return', color=color)  # we already handled the x-label with ax1
ax2.plot(returns.index, returns['.GDAXI'], color=color)
ax2.tick_params(axis='y', labelcolor=color)

plt.title('DAX Prices and Returns')
fig.tight_layout()  # otherwise the right y-label is slightly clipped
plt.show()

#Task 3

# Calculate average return for each company
mean_returns = returns.mean()

# Find company with highest average return
best_company = mean_returns.idxmax()

print("The company with the highest average return is:", best_company)


#Task4

# Subset the first 10 columns (assets)
asset_subset = returns.iloc[:, :10]

# Calculate the correlation matrix
corr_matrix = asset_subset.corr()

# Create a heatmap
sns.heatmap(corr_matrix, annot=True, cmap="YlGnBu")

#Task 5

# Calculate correlations between all assets
corr_matrix = returns.corr()

# Set diagonal elements (correlation of an asset with itself) to zero
np.fill_diagonal(corr_matrix.values, 0)

# Find the pair with highest correlation
highest_corr_pair = np.unravel_index(np.argmax(corr_matrix), corr_matrix.shape)
print(f"Pair with highest correlation: {returns.columns[highest_corr_pair[0]]} and {returns.columns[highest_corr_pair[1]]}")

# Plot scatter plot for highest correlation pair
plt.scatter(returns.iloc[:, highest_corr_pair[0]], returns.iloc[:, highest_corr_pair[1]])
plt.xlabel(returns.columns[highest_corr_pair[0]])
plt.ylabel(returns.columns[highest_corr_pair[1]])
plt.title(f"Scatter plot for pair with highest correlation: {returns.columns[highest_corr_pair[0]]} and {returns.columns[highest_corr_pair[1]]}")
plt.show()

# Find the pair with lowest correlation
lowest_corr_pair = np.unravel_index(np.argmin(corr_matrix), corr_matrix.shape)
print(f"Pair with lowest correlation: {returns.columns[lowest_corr_pair[0]]} and {returns.columns[lowest_corr_pair[1]]}")

# Plot scatter plot for lowest correlation pair
plt.scatter(returns.iloc[:, lowest_corr_pair[0]], returns.iloc[:, lowest_corr_pair[1]])
plt.xlabel(returns.columns[lowest_corr_pair[0]])
plt.ylabel(returns.columns[lowest_corr_pair[1]])
plt.title(f"Scatter plot for pair with lowest correlation: {returns.columns[lowest_corr_pair[0]]} and {returns.columns[lowest_corr_pair[1]]}")
plt.show()

#Task 6

import numpy as np

# Calculate annualized volatility and return for each asset
volatility = np.sqrt(252) * returns.std()
annual_return = 252 * returns.mean()

# Calculate Sharpe ratio for each asset
rf_rate = 0.005 # 0.5% p.a. risk-free rate
sharpe_ratio = (annual_return - rf_rate) / volatility

# Print the results
print("Annualized Volatility:")
print(volatility)

print("\nAnnualized Return:")
print(annual_return)

print("\nSharpe Ratio:")
print(sharpe_ratio)

#Task 7

# Convert index to datetime
prices.index = pd.to_datetime(prices.index)

# Resample to monthly frequency
monthly_prices = prices['BMWG.DE'].resample('M').last()

# Plot monthly prices
fig, ax = plt.subplots(figsize=(10, 5))
ax.plot(monthly_prices.index, monthly_prices.values, color='b')
ax.set_xlabel('Year')
ax.set_ylabel('Price')
ax.set_title('Monthly Prices of BMWG.DE')
plt.show()

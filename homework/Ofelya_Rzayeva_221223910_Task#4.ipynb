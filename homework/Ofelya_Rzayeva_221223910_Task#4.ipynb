#Ofelya Rzayeva 221223910

#Task 1

# import the libraries
import pandas as pd
import numpy as np
import matplotlib.pyplot as plt

# Load the data from the "02_python_data.csv" file using pandas

data = pd.read_csv("02_python_data.csv", index_col=0, parse_dates=True)

# Calculate the log-returns of the ".GDAXI" column using numpy and pandas

gdaxi_returns = np.log(data[".GDAXI"] / data[".GDAXI"].shift(1))
gdaxi_returns = gdaxi_returns.dropna()

# Calculate the cumulative log-returns of the ".GDAXI" column using numpy and pandas
gdaxi_cum_returns = np.cumsum(gdaxi_returns)

# Calculate the equally weighted portfolio of the constituents (excluding ".GDAXI") using numpy and pandas
portfolio = data.drop(columns=".GDAXI")
portfolio_weight = np.full(portfolio.shape[1], 1 / portfolio.shape[1])
portfolio_weighted_returns = np.sum(portfolio.pct_change() * portfolio_weight, axis=1)
portfolio_weighted_returns = portfolio_weighted_returns.dropna()

# Calculate the log-returns and cumulative log-returns of the equally weighted portfolio using numpy and pandas
portfolio_weighted_log_returns = np.log(1 + portfolio_weighted_returns)
portfolio_weighted_cum_returns = np.cumsum(portfolio_weighted_log_returns)

# Plot the cumulative log-returns of both ".GDAXI" and the equally weighted portfolio using matplotlib

plt.plot(gdaxi_cum_returns, label=".GDAXI")
plt.plot(portfolio_weighted_cum_returns, label="Equally Weighted Portfolio")
plt.title("Cumulative Log-Returns of .GDAXI and Equally Weighted Portfolio")
plt.xlabel("Date")
plt.ylabel("Cumulative Log-Returns")
plt.legend()
plt.show()

#Task 2

# Load the data and import necessary libraries
import pandas as pd

data = pd.read_csv("02_python_data.csv", index_col=0)

# Calculate the log-returns of the ".GDAXI" column using numpy and pandas
import numpy as np

gdaxi_returns = np.log(data[".GDAXI"] / data[".GDAXI"].shift(1))
gdaxi_returns = gdaxi_returns.dropna()

# Calculate the log-returns of the equally weighted portfolio of the constituents (excluding ".GDAXI") using numpy and pandas
portfolio = data.drop(columns=".GDAXI")
portfolio_weight = np.full(portfolio.shape[1], 1 / portfolio.shape[1])
portfolio_weighted_returns = np.sum(portfolio.pct_change() * portfolio_weight, axis=1)
portfolio_weighted_returns = portfolio_weighted_returns.dropna()

# Calculate the 95% 1-day VaR using Historical simulation
gdaxi_hist_var = np.percentile(gdaxi_returns, 5)
portfolio_hist_var = np.percentile(portfolio_weighted_returns, 5)

# Calculate the 95% 1-day VaR using the Parametric method
from scipy.stats import norm

gdaxi_mean = np.mean(gdaxi_returns)
gdaxi_std = np.std(gdaxi_returns)
gdaxi_para_var = -gdaxi_mean - norm.ppf(0.05) * gdaxi_std

portfolio_mean = np.mean(portfolio_weighted_returns)
portfolio_std = np.std(portfolio_weighted_returns)
portfolio_para_var = -portfolio_mean - norm.ppf(0.05) * portfolio_std

# Calculate the 95% 1-day VaR using Monte Carlo simulation
def monte_carlo_var(returns, alpha=0.05, days=1, simulations=10000):
    from scipy.stats import norm
    
    sim_returns = []
    for i in range(simulations):
        sim_returns.append(np.sum(np.random.choice(returns, days)) / days)
    sim_returns = np.array(sim_returns)
    sim_returns = np.sort(sim_returns)
    var = -np.percentile(sim_returns, alpha * 100)
    
    return var

gdaxi_mc_var = monte_carlo_var(gdaxi_returns)
portfolio_mc_var = monte_carlo_var(portfolio_weighted_returns)

# Create a data frame to store the VaR values
var_df = pd.DataFrame({"Historical Simulation": [gdaxi_hist_var, portfolio_hist_var],
                       "Parametric Method": [gdaxi_para_var, portfolio_para_var],
                       "Monte Carlo Simulation": [gdaxi_mc_var, portfolio_mc_var]},
                       index=[".GDAXI", "Equally Weighted Portfolio"])
                       
# Display the data frame
display(var_df)

#Task 3

# Calculate the mean and standard deviation of the returns
gdaxi_mean = np.mean(gdaxi_returns)
gdaxi_std = np.std(gdaxi_returns)

# Create a histogram of the returns
fig, ax = plt.subplots(figsize=(10, 6))
n, bins, patches = ax.hist(gdaxi_returns, bins=50, density=True, alpha=0.7)

# Add a line plot of the normal distribution
x = np.linspace(gdaxi_mean - 4 * gdaxi_std, gdaxi_mean + 4 * gdaxi_std, 1000)
y = norm.pdf(x, gdaxi_mean, gdaxi_std)
ax.plot(x, y, color="red", label="Normal Distribution")

# Add vertical lines for the VaR values
gdaxi_hist_var = np.percentile(gdaxi_returns, 5)
gdaxi_para_var = -gdaxi_mean - norm.ppf(0.05) * gdaxi_std
gdaxi_mc_var = monte_carlo_var(gdaxi_returns)

ax.axvline(x=gdaxi_hist_var, color="blue", linestyle="--", label="Historical VaR")
ax.axvline(x=gdaxi_para_var, color="green", linestyle="--", label="Parametric VaR")
ax.axvline(x=gdaxi_mc_var, color="orange", linestyle="--", label="Monte Carlo VaR")

# Add axis labels and a legend
ax.set_xlabel("Log-Returns")
ax.set_ylabel("Density")
ax.set_title("Distribution of Log-Returns for .GDAXI")
ax.legend()

# Show the plot
plt.show()